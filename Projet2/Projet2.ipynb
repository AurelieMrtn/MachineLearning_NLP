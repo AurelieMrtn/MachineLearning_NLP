{
 "cells": [
  {
   "cell_type": "code",
   "execution_count": 1,
   "metadata": {},
   "outputs": [],
   "source": [
    "import csv\n",
    "import pandas as pd\n",
    "\n",
    "restaurants = pd.read_csv('restaurants.csv')\n",
    "reviews = pd.read_csv('reviews.csv')"
   ]
  },
  {
   "cell_type": "code",
   "execution_count": 4,
   "metadata": {},
   "outputs": [
    {
     "name": "stdout",
     "output_type": "stream",
     "text": [
      "<class 'pandas.core.frame.DataFrame'>\n",
      "RangeIndex: 98 entries, 0 to 97\n",
      "Data columns (total 5 columns):\n",
      " #   Column           Non-Null Count  Dtype  \n",
      "---  ------           --------------  -----  \n",
      " 0   Restaurant_Name  98 non-null     object \n",
      " 1   Ranking          63 non-null     float64\n",
      " 2   Price_Range      98 non-null     object \n",
      " 3   Cuisine_Type     98 non-null     object \n",
      " 4   Menu Items       98 non-null     object \n",
      "dtypes: float64(1), object(4)\n",
      "memory usage: 4.0+ KB\n"
     ]
    }
   ],
   "source": [
    "restaurants.info()"
   ]
  },
  {
   "cell_type": "code",
   "execution_count": 5,
   "metadata": {},
   "outputs": [
    {
     "name": "stdout",
     "output_type": "stream",
     "text": [
      "<class 'pandas.core.frame.DataFrame'>\n",
      "RangeIndex: 5352 entries, 0 to 5351\n",
      "Data columns (total 7 columns):\n",
      " #   Column              Non-Null Count  Dtype  \n",
      "---  ------              --------------  -----  \n",
      " 0   Restaurant_Name     5352 non-null   object \n",
      " 1   Ranking             5352 non-null   float64\n",
      " 2   Global_Ranking      5352 non-null   int64  \n",
      " 3   Plats_Ranking       5352 non-null   int64  \n",
      " 4   Service_Ranking     5352 non-null   int64  \n",
      " 5   Atmosphere_Ranking  5352 non-null   int64  \n",
      " 6   Text                5350 non-null   object \n",
      "dtypes: float64(1), int64(4), object(2)\n",
      "memory usage: 292.8+ KB\n"
     ]
    }
   ],
   "source": [
    "reviews.info()"
   ]
  }
 ],
 "metadata": {
  "kernelspec": {
   "display_name": "Python 3",
   "language": "python",
   "name": "python3"
  },
  "language_info": {
   "codemirror_mode": {
    "name": "ipython",
    "version": 3
   },
   "file_extension": ".py",
   "mimetype": "text/x-python",
   "name": "python",
   "nbconvert_exporter": "python",
   "pygments_lexer": "ipython3",
   "version": "3.10.7"
  }
 },
 "nbformat": 4,
 "nbformat_minor": 2
}
